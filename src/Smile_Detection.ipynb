{
 "cells": [
  {
   "cell_type": "code",
   "execution_count": 2,
   "metadata": {
    "id": "FVGiHRLJ4ONu"
   },
   "outputs": [],
   "source": [
    "import kagglehub\n",
    "import sys\n",
    "import os\n",
    "import torch\n",
    "from torch.utils.data import Dataset, DataLoader\n",
    "from torchvision import transforms\n",
    "import torch.optim as optim\n",
    "import torch.nn as nn"
   ]
  },
  {
   "cell_type": "code",
   "execution_count": 3,
   "metadata": {
    "colab": {
     "base_uri": "https://localhost:8080/"
    },
    "id": "h92Mig5GK2ow",
    "outputId": "f3b12cf5-2c30-47fd-beaf-7b54d3b64514"
   },
   "outputs": [
    {
     "name": "stdout",
     "output_type": "stream",
     "text": [
      "Downloading from https://www.kaggle.com/api/v1/datasets/download/talhasar/genki4k?dataset_version_number=1...\n"
     ]
    },
    {
     "name": "stderr",
     "output_type": "stream",
     "text": [
      "100%|██████████| 25.0M/25.0M [00:00<00:00, 145MB/s]"
     ]
    },
    {
     "name": "stdout",
     "output_type": "stream",
     "text": [
      "Extracting files...\n"
     ]
    },
    {
     "name": "stderr",
     "output_type": "stream",
     "text": [
      "\n"
     ]
    },
    {
     "name": "stdout",
     "output_type": "stream",
     "text": [
      "Path to dataset files: /root/.cache/kagglehub/datasets/talhasar/genki4k/versions/1\n"
     ]
    }
   ],
   "source": [
    "path = kagglehub.dataset_download(\"talhasar/genki4k\")\n",
    "print(\"Path to dataset files:\", path)"
   ]
  },
  {
   "cell_type": "code",
   "execution_count": 4,
   "metadata": {
    "colab": {
     "base_uri": "https://localhost:8080/"
    },
    "id": "nQ1WrZ9A2dCW",
    "outputId": "f479d7f7-5f9f-4ee2-f197-79944f2ecaa4"
   },
   "outputs": [
    {
     "name": "stdout",
     "output_type": "stream",
     "text": [
      "Cloning into 'Smile-Detection'...\n",
      "remote: Enumerating objects: 56, done.\u001b[K\n",
      "remote: Counting objects: 100% (12/12), done.\u001b[K\n",
      "remote: Compressing objects: 100% (12/12), done.\u001b[K\n",
      "remote: Total 56 (delta 2), reused 0 (delta 0), pack-reused 44 (from 1)\u001b[K\n",
      "Receiving objects: 100% (56/56), 79.37 MiB | 11.60 MiB/s, done.\n",
      "Resolving deltas: 100% (13/13), done.\n",
      "Updating files: 100% (9/9), done.\n"
     ]
    }
   ],
   "source": [
    "! git clone https://github.com/kia-vadaei/Smile-Detection.git"
   ]
  },
  {
   "cell_type": "code",
   "execution_count": 5,
   "metadata": {
    "id": "rEaaRC_R2bxz"
   },
   "outputs": [],
   "source": [
    "module_path = './Smile-Detection/src'\n",
    "if module_path not in sys.path:\n",
    "    sys.path.append(module_path)"
   ]
  },
  {
   "cell_type": "code",
   "execution_count": 6,
   "metadata": {
    "colab": {
     "base_uri": "https://localhost:8080/"
    },
    "id": "dgwIQq-c_WjZ",
    "outputId": "7facd229-bfe5-4647-f16c-1d0498389773"
   },
   "outputs": [
    {
     "name": "stdout",
     "output_type": "stream",
     "text": [
      "\u001b[?25l   \u001b[90m━━━━━━━━━━━━━━━━━━━━━━━━━━━━━━━━━━━━━━━━\u001b[0m \u001b[32m0.0/1.9 MB\u001b[0m \u001b[31m?\u001b[0m eta \u001b[36m-:--:--\u001b[0m\r",
      "\u001b[2K   \u001b[91m━━━━━━━━━━━━━━\u001b[0m\u001b[91m╸\u001b[0m\u001b[90m━━━━━━━━━━━━━━━━━━━━━━━━━\u001b[0m \u001b[32m0.7/1.9 MB\u001b[0m \u001b[31m21.9 MB/s\u001b[0m eta \u001b[36m0:00:01\u001b[0m\r",
      "\u001b[2K   \u001b[91m━━━━━━━━━━━━━━━━━━━━━━━━━━━━━━━━━━━━━━━\u001b[0m\u001b[91m╸\u001b[0m \u001b[32m1.9/1.9 MB\u001b[0m \u001b[31m38.9 MB/s\u001b[0m eta \u001b[36m0:00:01\u001b[0m\r",
      "\u001b[2K   \u001b[90m━━━━━━━━━━━━━━━━━━━━━━━━━━━━━━━━━━━━━━━━\u001b[0m \u001b[32m1.9/1.9 MB\u001b[0m \u001b[31m25.3 MB/s\u001b[0m eta \u001b[36m0:00:00\u001b[0m\n",
      "\u001b[?25h\u001b[?25l   \u001b[90m━━━━━━━━━━━━━━━━━━━━━━━━━━━━━━━━━━━━━━━━\u001b[0m \u001b[32m0.0/1.3 MB\u001b[0m \u001b[31m?\u001b[0m eta \u001b[36m-:--:--\u001b[0m\r",
      "\u001b[2K   \u001b[91m━━━━━━━━━━━━━━━━━━━━━━━━━━━━━━━━━━━━━━━\u001b[0m\u001b[91m╸\u001b[0m \u001b[32m1.3/1.3 MB\u001b[0m \u001b[31m100.2 MB/s\u001b[0m eta \u001b[36m0:00:01\u001b[0m\r",
      "\u001b[2K   \u001b[90m━━━━━━━━━━━━━━━━━━━━━━━━━━━━━━━━━━━━━━━━\u001b[0m \u001b[32m1.3/1.3 MB\u001b[0m \u001b[31m29.9 MB/s\u001b[0m eta \u001b[36m0:00:00\u001b[0m\n",
      "\u001b[?25h"
     ]
    }
   ],
   "source": [
    "! pip install -q -r Smile-Detection/requirements.txt"
   ]
  },
  {
   "cell_type": "code",
   "execution_count": 7,
   "metadata": {
    "id": "OG1wzcFl5bfv"
   },
   "outputs": [],
   "source": [
    "from Preprocessing import Preprocessing"
   ]
  },
  {
   "cell_type": "code",
   "execution_count": 8,
   "metadata": {
    "id": "k4cN6qm-K-8z"
   },
   "outputs": [],
   "source": [
    "%mkdir ./dataset"
   ]
  },
  {
   "cell_type": "code",
   "execution_count": 9,
   "metadata": {
    "colab": {
     "base_uri": "https://localhost:8080/"
    },
    "id": "J9SvUd095w2O",
    "outputId": "7317a10a-3cd6-4859-adaa-0a37938fa0b6"
   },
   "outputs": [
    {
     "name": "stderr",
     "output_type": "stream",
     "text": [
      "smile class is being preprocessed: 100%|██████████| 2162/2162 [04:51<00:00,  7.42it/s]\n",
      "non-smile class is being preprocessed: 100%|██████████| 1838/1838 [03:57<00:00,  7.75it/s]\n"
     ]
    }
   ],
   "source": [
    "preprocessing = Preprocessing(output_smile = './dataset/smile',\n",
    "                              output_non_smile = './dataset/non_smile',\n",
    "                              input_main_path = '/root/.cache/kagglehub/datasets/talhasar/genki4k/versions/1/kaggle-genki4k')\n",
    "\n",
    "preprocessing.run_on_dataset()"
   ]
  },
  {
   "cell_type": "code",
   "execution_count": 10,
   "metadata": {
    "id": "0DK-RfrLHmJD"
   },
   "outputs": [],
   "source": [
    "from SmileNonSmile import SmileNonSmileDataset, SmileDetectionCNN"
   ]
  },
  {
   "cell_type": "code",
   "execution_count": 16,
   "metadata": {
    "id": "w2Lt5-j9HdJv"
   },
   "outputs": [],
   "source": [
    "data_dir = './dataset'\n",
    "# torch.manual_seed(0)\n",
    "dataset = SmileNonSmileDataset(data_dir=data_dir,)\n",
    "train_size = int(0.8 * len(dataset))\n",
    "val_size = len(dataset) - train_size\n",
    "train_dataset, test_dataset = torch.utils.data.random_split(dataset, [train_size, val_size],)\n",
    "batch_size = 32\n",
    "train_loader = DataLoader(train_dataset, batch_size=batch_size, shuffle=True)\n",
    "val_loader = DataLoader(test_dataset, batch_size=batch_size, shuffle=False)"
   ]
  },
  {
   "cell_type": "code",
   "execution_count": 17,
   "metadata": {
    "id": "p5iJ8EarKW_F"
   },
   "outputs": [],
   "source": [
    "model = SmileDetectionCNN().to('cuda')\n",
    "criterion = nn.CrossEntropyLoss()\n",
    "optimizer = optim.Adam(model.parameters(), lr=0.001)"
   ]
  },
  {
   "cell_type": "code",
   "execution_count": 18,
   "metadata": {
    "colab": {
     "base_uri": "https://localhost:8080/"
    },
    "id": "HHYf129xKD7C",
    "outputId": "dc210743-5a1d-4ce7-f013-3fd5f0a4f3cf"
   },
   "outputs": [
    {
     "name": "stdout",
     "output_type": "stream",
     "text": [
      "Epoch 1/25, Loss: 0.7007595122508381\n",
      "Epoch 2/25, Loss: 0.47719896260810934\n",
      "Epoch 3/25, Loss: 0.34137036230253137\n",
      "Epoch 4/25, Loss: 0.2780143287356781\n",
      "Epoch 5/25, Loss: 0.23034380675981875\n",
      "Epoch 6/25, Loss: 0.21193129063138497\n",
      "Epoch 7/25, Loss: 0.16800689563641083\n",
      "Epoch 8/25, Loss: 0.1298423727326419\n",
      "Epoch 9/25, Loss: 0.0932183075271061\n",
      "Epoch 10/25, Loss: 0.07210933870089281\n",
      "Epoch 11/25, Loss: 0.042149868712801\n",
      "Epoch 12/25, Loss: 0.03192867275388182\n",
      "Epoch 13/25, Loss: 0.02754164202918258\n",
      "Epoch 14/25, Loss: 0.03791356956429334\n",
      "Epoch 15/25, Loss: 0.023195717068712995\n",
      "Epoch 16/25, Loss: 0.051395202865735526\n",
      "Epoch 17/25, Loss: 0.024261716155350492\n",
      "Epoch 18/25, Loss: 0.009982918261654128\n",
      "Epoch 19/25, Loss: 0.0033566654894220055\n",
      "Epoch 20/25, Loss: 0.0017418302752206648\n",
      "Epoch 21/25, Loss: 0.0014911815000548654\n",
      "Epoch 22/25, Loss: 0.0011356790847141542\n",
      "Epoch 23/25, Loss: 0.0009241387235859926\n",
      "Epoch 24/25, Loss: 0.000747086040993726\n",
      "Epoch 25/25, Loss: 0.0006238760924549316\n"
     ]
    }
   ],
   "source": [
    "num_epochs = 25\n",
    "train_loss_history = []\n",
    "val_loss_history = []\n",
    "\n",
    "for epoch in range(num_epochs):\n",
    "    model.train()\n",
    "    running_loss = 0.0\n",
    "    val_running_loss = 0.0\n",
    "\n",
    "    for inputs, labels in train_loader:\n",
    "        inputs, labels = inputs.to('cuda'), labels.to('cuda')\n",
    "\n",
    "        optimizer.zero_grad()\n",
    "\n",
    "        outputs = model(inputs)\n",
    "        loss = criterion(outputs, labels)\n",
    "\n",
    "        loss.backward()\n",
    "        optimizer.step()\n",
    "\n",
    "        running_loss += loss.item()\n",
    "\n",
    "    train_loss_history.append(running_loss)\n",
    "\n",
    "\n",
    "    print(f'Epoch {epoch+1}/{num_epochs}, Loss: {running_loss/len(train_loader)}')\n",
    "\n",
    "    model.eval()\n",
    "    with torch.no_grad():\n",
    "        for val_inputs, val_labels in val_loader:\n",
    "            val_inputs, val_labels = inputs.to('cuda'), labels.to('cuda')\n",
    "            val_outputs = model(inputs)\n",
    "            val_loss = criterion(val_outputs, val_labels)\n",
    "            val_running_loss += loss.item()\n",
    "        val_loss_history.append(val_running_loss)\n"
   ]
  },
  {
   "cell_type": "code",
   "execution_count": 19,
   "metadata": {
    "colab": {
     "base_uri": "https://localhost:8080/",
     "height": 472
    },
    "id": "e6ojf99AbdH2",
    "outputId": "c8b275b9-db5c-4256-fbb9-f5fdf9387624"
   },
   "outputs": [
    {
     "data": {
      "image/png": "[encoded data removed]",
      "text/plain": [
       "<Figure size 640x480 with 1 Axes>"
      ]
     },
     "metadata": {},
     "output_type": "display_data"
    }
   ],
   "source": [
    "import matplotlib.pyplot as plt\n",
    "epochs = range(1, num_epochs + 1)\n",
    "\n",
    "plt.plot(epochs, train_loss_history, label=\"Training Loss\", color='blue')\n",
    "plt.plot(epochs, val_loss_history, label=\"Validation Loss\", color='red')\n",
    "\n",
    "plt.title('Training and Validation Losses Over Epochs')\n",
    "plt.xlabel('Epoch')\n",
    "plt.ylabel('Loss')\n",
    "\n",
    "plt.legend()\n",
    "\n",
    "plt.show()"
   ]
  },
  {
   "cell_type": "code",
   "execution_count": 20,
   "metadata": {
    "colab": {
     "base_uri": "https://localhost:8080/"
    },
    "id": "0ZGqzw01Nfbq",
    "outputId": "28b4cb43-3a39-4c27-e933-c327c2da64c3"
   },
   "outputs": [
    {
     "name": "stdout",
     "output_type": "stream",
     "text": [
      "              precision    recall  f1-score   support\n",
      "\n",
      "     Class 0       0.88      0.88      0.88       416\n",
      "     Class 1       0.84      0.84      0.84       321\n",
      "\n",
      "    accuracy                           0.86       737\n",
      "   macro avg       0.86      0.86      0.86       737\n",
      "weighted avg       0.86      0.86      0.86       737\n",
      "\n"
     ]
    }
   ],
   "source": [
    "import torch\n",
    "from sklearn.metrics import classification_report\n",
    "from torch.utils.data import DataLoader\n",
    "\n",
    "model.eval()\n",
    "\n",
    "all_labels = []\n",
    "all_preds = []\n",
    "\n",
    "with torch.no_grad():\n",
    "    for inputs, labels in val_loader:\n",
    "        inputs, labels = inputs.to('cuda'), labels.to('cuda')\n",
    "\n",
    "        outputs = model(inputs)\n",
    "        _, preds = torch.max(outputs, 1)  # Get the predicted class with the highest score\n",
    "\n",
    "        all_labels.extend(labels.cpu().numpy())\n",
    "        all_preds.extend(preds.cpu().numpy())\n",
    "\n",
    "report = classification_report(all_labels, all_preds, target_names=[\"Class 0\", \"Class 1\"])  # Replace with actual class names if needed\n",
    "print(report)\n"
   ]
  },
  {
   "cell_type": "code",
   "execution_count": 21,
   "metadata": {
    "id": "7baV_CUpd-Fp"
   },
   "outputs": [],
   "source": [
    "torch.save(model.state_dict(), './model.pth')"
   ]
  }
 ],
 "metadata": {
  "accelerator": "GPU",
  "colab": {
   "gpuType": "T4",
   "provenance": []
  },
  "kernelspec": {
   "display_name": "Python 3 (ipykernel)",
   "language": "python",
   "name": "python3"
  },
  "language_info": {
   "codemirror_mode": {
    "name": "ipython",
    "version": 3
   },
   "file_extension": ".py",
   "mimetype": "text/x-python",
   "name": "python",
   "nbconvert_exporter": "python",
   "pygments_lexer": "ipython3",
   "version": "3.11.7"
  }
 },
 "nbformat": 4,
 "nbformat_minor": 4
}
